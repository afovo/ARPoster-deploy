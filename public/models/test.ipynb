{
 "cells": [
  {
   "cell_type": "code",
   "execution_count": 1,
   "metadata": {},
   "outputs": [],
   "source": [
    "import numpy as np\n",
    "from scipy import spatial\n",
    "from stl import mesh\n",
    "vertices = np.array(\n",
    "    [\n",
    "        [-3, -3, 0],\n",
    "        [+3, -3, 0],\n",
    "        [+3, +3, 0],\n",
    "        [-3, +3, 0],\n",
    "        [+0, +0, +3]\n",
    "    ]\n",
    ")\n",
    "hull = spatial.ConvexHull(vertices)\n",
    "faces = hull.simplices\n",
    "myramid_mesh = mesh.Mesh(np.zeros(faces.shape[0], dtype=mesh.Mesh.dtype))\n",
    "for i, f in enumerate(faces):\n",
    "    for j in range(3):\n",
    "        myramid_mesh.vectors[i][j] = vertices[f[j],:]\n",
    "        \n",
    "myramid_mesh.save('test.gltf')"
   ]
  }
 ],
 "metadata": {
  "kernelspec": {
   "display_name": "Python 3",
   "language": "python",
   "name": "python3"
  },
  "language_info": {
   "codemirror_mode": {
    "name": "ipython",
    "version": 3
   },
   "file_extension": ".py",
   "mimetype": "text/x-python",
   "name": "python",
   "nbconvert_exporter": "python",
   "pygments_lexer": "ipython3",
   "version": "3.11.0"
  }
 },
 "nbformat": 4,
 "nbformat_minor": 2
}
